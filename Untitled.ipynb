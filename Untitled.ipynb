{
 "cells": [
  {
   "cell_type": "code",
   "execution_count": 1,
   "metadata": {},
   "outputs": [],
   "source": [
    "from urllib.request import urlopen\n",
    "from bs4 import BeautifulSoup"
   ]
  },
  {
   "cell_type": "code",
   "execution_count": 2,
   "metadata": {},
   "outputs": [],
   "source": [
    "url = 'https://www.hubertiming.com/results/2017GPTR10K?search=&DivisionFilter=F+26-35'\n",
    "html = urlopen(url)\n",
    "soup = BeautifulSoup(html, 'lxml')"
   ]
  },
  {
   "cell_type": "code",
   "execution_count": 4,
   "metadata": {},
   "outputs": [
    {
     "data": {
      "text/plain": [
       "'2017 Intel Great Place to Run 10K \\\\ Urban Clash Games Race Results'"
      ]
     },
     "execution_count": 4,
     "metadata": {},
     "output_type": "execute_result"
    }
   ],
   "source": [
    "soup.title.string"
   ]
  },
  {
   "cell_type": "code",
   "execution_count": 5,
   "metadata": {},
   "outputs": [
    {
     "data": {
      "text/plain": [
       "'\\n\\n\\n\\n\\n\\n\\n2017 Intel Great Place to Run 10K \\\\ Urban Clash Games Race Results\\n\\n\\n\\n\\n\\r\\n        @media print {\\r\\n            .noprint {\\r\\n                display: none;\\r\\n            }\\r\\n\\r\\n            .dataTables_filter {\\r\\n                display: none;\\r\\n            }\\r\\n        }\\r\\n\\r\\n        #individualResults tbody tr {\\r\\n            cursor: pointer;\\r\\n        }\\r\\n\\r\\n        .video-container {\\r\\n            position: relative;\\r\\n            padding-bottom: 56.25%; /* 16:9 */\\r\\n            padding-top: 25px;\\r\\n            height: 0;\\r\\n        }\\r\\n\\r\\n            .video-container iframe {\\r\\n                position: absolute;\\r\\n                top: 0;\\r\\n                left: 0;\\r\\n                width: 100%;\\r\\n                height: 100%;\\r\\n            }\\r\\n\\r\\n        .dataTables_wrapper .dataTables_paginate {\\r\\n            float: right;\\r\\n            text-align: right;\\r\\n            padding-top: 0.25em;\\r\\n        }\\r\\n\\r\\n            .dataTables_wrapper .dataTables_paginate .paginate_button {\\r\\n                box-sizing: border-box;\\r\\n                display: inline-block;\\r\\n                min-width: 1.5em;\\r\\n                padding: 0.5em 1em;\\r\\n                margin-left: 2px;\\r\\n                text-align: center;\\r\\n                text-decoration: none !important;\\r\\n                cursor: pointer;\\r\\n                *cursor: hand;\\r\\n                color: #333333 !important;\\r\\n                border: 1px solid transparent;\\r\\n            }\\r\\n\\r\\n                .dataTables_wrapper .dataTables_paginate .paginate_button.current, .dataTables_wrapper .dataTables_paginate .paginate_button.current:hover {\\r\\n                    color: #333333 !important;\\r\\n                    border: 1px solid #cacaca;\\r\\n                    background-color: white;\\r\\n                    background: -webkit-gradient(linear, left top, left bottom, color-stop(0%, white), color-stop(100%, gainsboro));\\r\\n                    /* Chrome,Safari4+ */\\r\\n                    background: -webkit-linear-gradient(top, white 0%, gainsboro 100%);\\r\\n                    /* Chrome10+,Safari5.1+ */\\r\\n                    background: -moz-linear-gradient(top, white 0%, gainsboro 100%);\\r\\n                    /* FF3.6+ */\\r\\n                    background: -ms-linear-gradient(top, white 0%, gainsboro 100%);\\r\\n                    /* IE10+ */\\r\\n                    background: -o-linear-gradient(top, white 0%, gainsboro 100%);\\r\\n                    /* Opera 11.10+ */\\r\\n                    background: linear-gradient(to bottom, white 0%, gainsboro 100%);\\r\\n                    /* W3C */\\r\\n                }\\r\\n\\r\\n                .dataTables_wrapper .dataTables_paginate .paginate_button.disabled, .dataTables_wrapper .dataTables_paginate .paginate_button.disabled:hover, .dataTables_wrapper .dataTables_paginate .paginate_button.disabled:active {\\r\\n                    cursor: default;\\r\\n                    color: #666 !important;\\r\\n                    border: 1px solid transparent;\\r\\n                    background: transparent;\\r\\n                    box-shadow: none;\\r\\n                }\\r\\n\\r\\n                .dataTables_wrapper .dataTables_paginate .paginate_button:hover {\\r\\n                    color: white !important;\\r\\n                    border: 1px solid #111111;\\r\\n                    background-color: #585858;\\r\\n                    background: -webkit-gradient(linear, left top, left bottom, color-stop(0%, #585858), color-stop(100%, #111111));\\r\\n                    /* Chrome,Safari4+ */\\r\\n                    background: -webkit-linear-gradient(top, #585858 0%, #111111 100%);\\r\\n                    /* Chrome10+,Safari5.1+ */\\r\\n                    background: -moz-linear-gradient(top, #585858 0%, #111111 100%);\\r\\n                    /* FF3.6+ */\\r\\n                    background: -ms-linear-gradient(top, #585858 0%, #111111 100%);\\r\\n                    /* IE10+ */\\r\\n                    background: -o-linear-gradient(top, #585858 0%, #111111 100%);\\r\\n                    /* Opera 11.10+ */\\r\\n                    background: linear-gradient(to bottom, #585858 0%, #111111 100%);\\r\\n                    /* W3C */\\r\\n                }\\r\\n\\r\\n                .dataTables_wrapper .dataTables_paginate .paginate_button:active {\\r\\n                    outline: none;\\r\\n                    background-color: #2b2b2b;\\r\\n                    background: -webkit-gradient(linear, left top, left bottom, color-stop(0%, #2b2b2b), color-stop(100%, #0c0c0c));\\r\\n                    /* Chrome,Safari4+ */\\r\\n                    background: -webkit-linear-gradient(top, #2b2b2b 0%, #0c0c0c 100%);\\r\\n                    /* Chrome10+,Safari5.1+ */\\r\\n                    background: -moz-linear-gradient(top, #2b2b2b 0%, #0c0c0c 100%);\\r\\n                    /* FF3.6+ */\\r\\n                    background: -ms-linear-gradient(top, #2b2b2b 0%, #0c0c0c 100%);\\r\\n                    /* IE10+ */\\r\\n                    background: -o-linear-gradient(top, #2b2b2b 0%, #0c0c0c 100%);\\r\\n                    /* Opera 11.10+ */\\r\\n                    background: linear-gradient(to bottom, #2b2b2b 0%, #0c0c0c 100%);\\r\\n                    /* W3C */\\r\\n                    box-shadow: inset 0 0 3px #111;\\r\\n                }\\r\\n\\r\\n        .dataTables_wrapper .dataTables_processing {\\r\\n            position: absolute;\\r\\n            top: 50%;\\r\\n            left: 50%;\\r\\n            width: 100%;\\r\\n            height: 40px;\\r\\n            margin-left: -50%;\\r\\n            margin-top: -25px;\\r\\n            padding-top: 20px;\\r\\n            text-align: center;\\r\\n            font-size: 1.2em;\\r\\n            background-color: white;\\r\\n            background: -webkit-gradient(linear, left top, right top, color-stop(0%, rgba(255, 255, 255, 0)), color-stop(25%, rgba(255, 255, 255, 0.9)), color-stop(75%, rgba(255, 255, 255, 0.9)), color-stop(100%, rgba(255, 255, 255, 0)));\\r\\n            /* Chrome,Safari4+ */\\r\\n            background: -webkit-linear-gradient(left, rgba(255, 255, 255, 0) 0%, rgba(255, 255, 255, 0.9) 25%, rgba(255, 255, 255, 0.9) 75%, rgba(255, 255, 255, 0) 100%);\\r\\n            /* Chrome10+,Safari5.1+ */\\r\\n            background: -moz-linear-gradient(left, rgba(255, 255, 255, 0) 0%, rgba(255, 255, 255, 0.9) 25%, rgba(255, 255, 255, 0.9) 75%, rgba(255, 255, 255, 0) 100%);\\r\\n            /* FF3.6+ */\\r\\n            background: -ms-linear-gradient(left, rgba(255, 255, 255, 0) 0%, rgba(255, 255, 255, 0.9) 25%, rgba(255, 255, 255, 0.9) 75%, rgba(255, 255, 255, 0) 100%);\\r\\n            /* IE10+ */\\r\\n            background: -o-linear-gradient(left, rgba(255, 255, 255, 0) 0%, rgba(255, 255, 255, 0.9) 25%, rgba(255, 255, 255, 0.9) 75%, rgba(255, 255, 255, 0) 100%);\\r\\n            /* Opera 11.10+ */\\r\\n            background: linear-gradient(to right, rgba(255, 255, 255, 0) 0%, rgba(255, 255, 255, 0.9) 25%, rgba(255, 255, 255, 0.9) 75%, rgba(255, 255, 255, 0) 100%);\\r\\n            /* W3C */\\r\\n        }\\r\\n\\r\\n        .dataTables_wrapper .dataTables_length,\\r\\n        .dataTables_wrapper .dataTables_filter,\\r\\n        .dataTables_wrapper .dataTables_info,\\r\\n        .dataTables_wrapper .dataTables_processing,\\r\\n        .dataTables_wrapper .dataTables_paginate {\\r\\n            color: #333333;\\r\\n        }\\r\\n    \\n\\n\\r\\n        body {\\r\\n            margin: 0;\\r\\n            font-family: \"Helvetica Neue\",Helvetica,Arial,sans-serif;\\r\\n            font-size: 16px;\\r\\n            line-height: 18px;\\r\\n            color: #333;\\r\\n            background-color: #fff;\\r\\n        }\\r\\n\\r\\n\\r\\n        .ui-widget {\\r\\n            font-family: \"Helvetica Neue\",Helvetica,Arial,sans-serif;\\r\\n            font-size: 16px;\\r\\n        }\\r\\n\\r\\n        /* Should consider switching to font awesome icons so they appear larger */\\r\\n        #tabs li .ui-icon-close {\\r\\n            float: left;\\r\\n            margin: 10px 0px 0px 0px;\\r\\n            cursor: pointer;\\r\\n        }\\r\\n\\r\\n        .ui-state-default, .ui-widget-content .ui-state-default, .ui-widget-header .ui-state-default {\\r\\n            font-weight: bold;\\r\\n            color: #ffffff;\\r\\n        }\\r\\n\\r\\n        /* Remove border. Make this work a little better on mobile devices. Not true responsive though.*/\\r\\n        .ui-widget-content {\\r\\n            border: none;\\r\\n        }\\r\\n\\r\\n        .alert-info {\\r\\n            margin-bottom: 0;\\r\\n            width: 100%;\\r\\n        }\\r\\n\\r\\n        .table td {\\r\\n            padding: .5rem;\\r\\n        }\\r\\n    \\n\\n\\n\\n\\n\\n\\n\\n\\n\\n\\n\\n\\n\\n 2017 Intel Great Place to Run 10K \\\\ Urban Clash Games\\n Hillsboro Stadium, Hillsboro, OR\\n June 2nd, 2017 \\n\\n\\n\\n\\n Email timing@hubertiming.com with results questions. Please include your bib number if you have it.\\n\\n\\n\\n\\n\\nHuber Timing Home\\n\\n\\n\\n10K:\\nFinishers:577\\nMale:414\\nFemale:163\\n\\n\\n\\n\\n\\n\\n\\r\\n                    [Individual Results]\\r\\n                    [Team Results] \\n\\n\\n\\n5K\\n10K\\nSummary\\n\\n\\n\\n10K Results\\n\\n\\n\\nSearch:\\n\\nSearch\\nDivision:\\n\\nMen\\nWomen\\nMasters Men\\nMasters Women\\n\\nF 18-25\\nF 26-35\\nF 36-45\\nF 46-55\\nF Under 18\\nM 18-25\\nM 26-35\\nM 36-45\\nM 46-55\\nM 55+\\nM Under 18\\n Filter\\n\\n\\n\\n\\n\\nPlace\\nBib\\nName\\nGender\\nCity\\nState\\nChip Time\\nChip Pace\\nGender Place\\nAge Group\\nAge Group Place\\nTime to Start\\nGun Time\\nTeam\\n\\n\\n\\r\\n                        Returning 59 of 577 finishers\\r\\n                        Clear Search\\n\\n31\\n674\\nTAYSEER MAHDI\\nF\\nHILLSBORO\\nOR\\n43:47\\n7:03\\n2 of 163\\nF 26-35\\n1 of 59\\n0:05\\n43:52\\n\\n\\n\\n86\\n764\\nREBECCA JENSEN\\nF\\nHILLSBORO\\nOR\\n47:35\\n7:40\\n9 of 163\\nF 26-35\\n2 of 59\\n0:24\\n47:59\\n\\n\\n\\n106\\n591\\nERIN F WIESENAUER\\nF\\nPORTLAND\\nOR\\n48:39\\n7:50\\n13 of 163\\nF 26-35\\n3 of 59\\n0:17\\n48:56\\nINTEL TEAM N\\n\\n\\n173\\n304\\nVANESSA R BRITT\\nF\\nPORTLAND\\nOR\\n52:36\\n8:29\\n19 of 163\\nF 26-35\\n4 of 59\\n0:25\\n53:01\\n\\n\\n\\n175\\n9\\nBETH UNGER\\nF\\n\\n\\n52:38\\n8:29\\n20 of 163\\nF 26-35\\n5 of 59\\n0:30\\n53:08\\nCOLUMBIA TEAM C\\n\\n\\n200\\n875\\nKRISTINA M HIERSCHE\\nF\\nBEAVERTON\\nOR\\n53:56\\n8:42\\n24 of 163\\nF 26-35\\n6 of 59\\n0:19\\n54:15\\n\\n\\n\\n206\\n70\\nMAISIE WEISENBORN\\nF\\nPORTLAND\\nOR\\n54:10\\n8:44\\n25 of 163\\nF 26-35\\n7 of 59\\n0:15\\n54:25\\nDTNA1\\n\\n\\n207\\n48\\nLOUISE R DUNNE\\nF\\nPORTLAND\\nOR\\n54:16\\n8:45\\n26 of 163\\nF 26-35\\n8 of 59\\n0:36\\n54:52\\n\\n\\n\\n209\\n851\\nHONG NHUNG T TRAN\\nF\\nBEAVERTON\\nOR\\n54:17\\n8:45\\n27 of 163\\nF 26-35\\n9 of 59\\n0:49\\n55:06\\n\\n\\n\\n261\\n385\\nKAYLA SEAGER\\nF\\nOTHER\\nOR\\n57:31\\n9:16\\n34 of 163\\nF 26-35\\n10 of 59\\n0:41\\n58:12\\n\\n\\n\\n268\\n782\\nARINDA SCHRUM\\nF\\nPORTLAND\\nOR\\n57:45\\n9:18\\n36 of 163\\nF 26-35\\n11 of 59\\n0:56\\n58:41\\nFXG1\\n\\n\\n279\\n287\\nMANASI D NAVARE\\nF\\nPORTLAND\\nOR\\n58:35\\n9:27\\n39 of 163\\nF 26-35\\n12 of 59\\n0:09\\n58:44\\nINTEL TEAM L\\n\\n\\n287\\n258\\nPEI-FANG SUNG\\nF\\nHILLSBORO\\nOR\\n58:59\\n9:30\\n44 of 163\\nF 26-35\\n13 of 59\\n1:29\\n1:00:28\\n\\n\\n\\n288\\n583\\nDANIELLE CASILLAS\\nF\\nPORTLAND\\nOR\\n58:59\\n9:30\\n45 of 163\\nF 26-35\\n14 of 59\\n1:28\\n1:00:27\\nINTEL TEAM M\\n\\n\\n294\\n470\\nALLYSON HEILINGER\\nF\\nHILLSBORO\\nOR\\n59:27\\n9:35\\n47 of 163\\nF 26-35\\n15 of 59\\n1:09\\n1:00:36\\n\\n\\n\\n303\\n328\\nRISHANKA PRABHU\\nF\\nHILLSBORO\\nOR\\n59:47\\n9:38\\n50 of 163\\nF 26-35\\n16 of 59\\n0:20\\n1:00:07\\n\\n\\n\\n320\\n210\\nCAROLINA DE AGUIAR MARTINS\\nF\\nHILLSBORO\\nOR\\n1:00:39\\n9:46\\n56 of 163\\nF 26-35\\n17 of 59\\n1:08\\n1:01:47\\n\\n\\n\\n330\\n209\\nSERIN BUSSELL\\nF\\nPORTLAND\\nOR\\n1:01:19\\n9:53\\n59 of 163\\nF 26-35\\n18 of 59\\n0:28\\n1:01:47\\n\\n\\n\\n343\\n590\\nEILEEN M HASSETT\\nF\\nNOT SPECIFIED\\nOR\\n1:02:04\\n10:00\\n63 of 163\\nF 26-35\\n19 of 59\\n0:15\\n1:02:19\\n\\n\\n\\n344\\n454\\nLIDIA A KUSNADI\\nF\\nPORTLAND\\nOR\\n1:02:05\\n10:00\\n64 of 163\\nF 26-35\\n20 of 59\\n0:41\\n1:02:46\\n\\n\\n\\n346\\n367\\nRAMYA MERUVA\\nF\\nHILLSBORO\\nOR\\n1:02:06\\n10:01\\n65 of 163\\nF 26-35\\n21 of 59\\n0:23\\n1:02:29\\nINTEL TEAM M\\n\\n\\n360\\n229\\nMEENAKSHI MAMUNURU\\nF\\nTIGARD\\nOR\\n1:02:48\\n10:07\\n68 of 163\\nF 26-35\\n22 of 59\\n1:08\\n1:03:56\\n\\n\\n\\n362\\n314\\nAMANDA DEVASTO\\nF\\nPORTLAND\\nOR\\n1:02:48\\n10:07\\n69 of 163\\nF 26-35\\n23 of 59\\n0:32\\n1:03:20\\n\\n\\n\\n365\\n800\\nERIN MORLAN\\nF\\nPORTLAND\\nOR\\n1:03:08\\n10:11\\n70 of 163\\nF 26-35\\n24 of 59\\n0:57\\n1:04:05\\n\\n\\n\\n367\\n570\\nLOICE CHINGOZHA\\nF\\nHILLSBORO\\nOR\\n1:03:19\\n10:12\\n71 of 163\\nF 26-35\\n25 of 59\\n0:26\\n1:03:45\\n\\n\\n\\n371\\n859\\nERIN MCKALIP\\nF\\nPORTLAND\\nOR\\n1:03:44\\n10:16\\n74 of 163\\nF 26-35\\n26 of 59\\n0:19\\n1:04:03\\n\\n\\n\\n374\\n678\\nRITU ARORA\\nF\\nHILLSBORO\\nOR\\n1:03:51\\n10:17\\n75 of 163\\nF 26-35\\n27 of 59\\n0:29\\n1:04:20\\n\\n\\n\\n383\\n644\\nJIAYIN LIN\\nF\\nHILLSBORO\\nOR\\n1:04:19\\n10:22\\n78 of 163\\nF 26-35\\n28 of 59\\n0:56\\n1:05:15\\n\\n\\n\\n384\\n5\\nKENDRA DONLIN\\nF\\n\\n\\n1:04:19\\n10:22\\n79 of 163\\nF 26-35\\n29 of 59\\n0:32\\n1:04:51\\nCOLUMBIA TEAM B\\n\\n\\n393\\n63\\nERIN M MCDONNELL\\nF\\nALOHA\\nOR\\n1:04:44\\n10:26\\n83 of 163\\nF 26-35\\n30 of 59\\n0:20\\n1:05:04\\n\\n\\n\\n397\\n40\\nDENISE HERNANDEZ\\nF\\nBEAVERTON\\nOR\\n1:04:56\\n10:28\\n86 of 163\\nF 26-35\\n31 of 59\\n0:45\\n1:05:41\\n\\n\\n\\n398\\n567\\nSTACIE L COLLINS\\nF\\nPORTLAND\\nOR\\n1:04:57\\n10:28\\n87 of 163\\nF 26-35\\n32 of 59\\n0:46\\n1:05:43\\n\\n\\n\\n404\\n224\\nKATIE SCARLETT KIMBALL\\nF\\nPORTLAND\\nOR\\n1:05:16\\n10:31\\n90 of 163\\nF 26-35\\n33 of 59\\n1:14\\n1:06:30\\n\\n\\n\\n419\\n721\\nKARIN SUNG\\nF\\nNOT SPECIFIED\\nOR\\n1:06:38\\n10:44\\n94 of 163\\nF 26-35\\n34 of 59\\n0:46\\n1:07:24\\n\\n\\n\\n433\\n34\\nREBECCA LATIOLAIT\\nF\\nHILLSBORO\\nOR\\n1:07:16\\n10:51\\n97 of 163\\nF 26-35\\n35 of 59\\n0:24\\n1:07:40\\n\\n\\n\\n451\\n551\\nSTACIE HYMAS\\nF\\nTUALATIN\\nOR\\n1:08:18\\n11:00\\n103 of 163\\nF 26-35\\n36 of 59\\n0:29\\n1:08:47\\n\\n\\n\\n454\\n22\\nNAOMI HOFFMAN\\nF\\nBEAVERTON\\nOR\\n1:08:42\\n11:04\\n104 of 163\\nF 26-35\\n37 of 59\\n0:55\\n1:09:37\\n\\n\\n\\n456\\n66\\nSONIKA JOHRI\\nF\\nPORTLAND\\nOR\\n1:08:52\\n11:06\\n105 of 163\\nF 26-35\\n38 of 59\\n0:39\\n1:09:31\\n\\n\\n\\n458\\n306\\nPHANI VADALI\\nF\\nHILLSBORO\\nOR\\n1:08:56\\n11:07\\n106 of 163\\nF 26-35\\n39 of 59\\n0:28\\n1:09:24\\n\\n\\n\\n459\\n320\\nSRI HARISHA SAI KASTURI\\nF\\nHILLSBORO\\nOR\\n1:08:57\\n11:07\\n107 of 163\\nF 26-35\\n40 of 59\\n0:04\\n1:09:01\\n\\n\\n\\n460\\n651\\nSRI PAVANI MEDAPURAM L N\\nF\\nHILLSBORO\\nOR\\n1:08:58\\n11:07\\n108 of 163\\nF 26-35\\n41 of 59\\n0:59\\n1:09:57\\n\\n\\n\\n474\\n417\\nHEMALATHA GURUMOORTHY\\nF\\nHILLSBORO\\nOR\\n1:09:49\\n11:15\\n112 of 163\\nF 26-35\\n42 of 59\\n0:57\\n1:10:46\\n\\n\\n\\n476\\n43\\nQUANEISHA JENKINS-PENHA\\nF\\nPORTLAND\\nOR\\n1:10:01\\n11:17\\n113 of 163\\nF 26-35\\n43 of 59\\n1:12\\n1:11:13\\n\\n\\n\\n478\\n336\\nPRIYANKA SHANKARAN\\nF\\nHILLSBORO\\nOR\\n1:10:06\\n11:18\\n114 of 163\\nF 26-35\\n44 of 59\\n0:23\\n1:10:29\\n\\n\\n\\n497\\n205\\nPRABHA VISWANATHAN\\nF\\nHILLSBORO\\nOR\\n1:11:59\\n11:36\\n122 of 163\\nF 26-35\\n45 of 59\\n0:09\\n1:12:08\\n\\n\\n\\n503\\n279\\nKRISTIN VANDERSCHICK\\nF\\nPORTLAND\\nOR\\n1:12:20\\n11:40\\n126 of 163\\nF 26-35\\n46 of 59\\n0:44\\n1:13:04\\n\\n\\n\\n509\\n157\\nLAURA M HOOVER\\nF\\nHILLSBORO\\nOR\\n1:13:02\\n11:46\\n130 of 163\\nF 26-35\\n47 of 59\\n0:43\\n1:13:45\\n\\n\\n\\n510\\n390\\nKETKI H KANITKAR\\nF\\nPORTLAND\\nOR\\n1:13:08\\n11:47\\n131 of 163\\nF 26-35\\n48 of 59\\n0:45\\n1:13:53\\n\\n\\n\\n519\\n607\\nSWATHI DHANAVANTHRI\\nF\\nHILLSBORO\\nOR\\n1:14:13\\n11:58\\n132 of 163\\nF 26-35\\n49 of 59\\n0:57\\n1:15:10\\nINTEL TEAM N\\n\\n\\n522\\n235\\nEMILY RALSTON\\nF\\nHILLSBORO\\nOR\\n1:14:22\\n11:59\\n133 of 163\\nF 26-35\\n50 of 59\\n1:20\\n1:15:42\\n\\n\\n\\n526\\n20\\nSAYALI KULKARNI\\nF\\nPORTLAND\\nOR\\n1:15:13\\n12:07\\n134 of 163\\nF 26-35\\n51 of 59\\n0:16\\n1:15:29\\n\\n\\n\\n538\\n447\\nPALLAVI J SHINDE\\nF\\nHILLSBORO\\nOR\\n1:17:06\\n12:26\\n140 of 163\\nF 26-35\\n52 of 59\\n0:30\\n1:17:36\\nINTEL TEAM M\\n\\n\\n548\\n539\\nJESS NICOLLS\\nF\\nHILLSBORO\\nOR\\n1:23:30\\n13:28\\n146 of 163\\nF 26-35\\n53 of 59\\n0:40\\n1:24:10\\n\\n\\n\\n554\\n465\\nNALINI MURARI\\nF\\nHILLSBORO\\nOR\\n1:25:11\\n13:44\\n149 of 163\\nF 26-35\\n54 of 59\\n0:39\\n1:25:50\\nINTEL TEAM M\\n\\n\\n557\\n124\\nAVANTIKA DHARMAGADDA\\nF\\nPORTLAND\\nOR\\n1:26:22\\n13:55\\n151 of 163\\nF 26-35\\n55 of 59\\n0:20\\n1:26:42\\n\\n\\n\\n563\\n886\\nGARGI SANT\\nF\\nROCKVILLE\\nMD\\n1:31:20\\n14:43\\n155 of 163\\nF 26-35\\n56 of 59\\n0:34\\n1:31:54\\n\\n\\n\\n567\\n133\\nLOLA ABDUL-JABBAR\\nF\\nOUT OF STATE\\nOR\\n1:32:28\\n14:54\\n156 of 163\\nF 26-35\\n57 of 59\\n0:37\\n1:33:05\\n\\n\\n\\n570\\n670\\nHEMA VIJWANI\\nF\\nHILLSBORO\\nOR\\n1:34:45\\n15:17\\n158 of 163\\nF 26-35\\n58 of 59\\n0:08\\n1:34:53\\n\\n\\n\\n576\\n338\\nPRANAVI APPANA\\nF\\nHILLSBORO\\nOR\\n1:40:47\\n16:15\\n162 of 163\\nF 26-35\\n59 of 59\\n1:14\\n1:42:01\\n\\n\\n\\n\\nTeam Results\\n\\n\\n\\n\\nAward\\nName\\nCombined Time\\n12341ST\\nDTNA2\\n02:54:41\\n00:40:36 - ANDY WEDAM00:44:05 - VASILIOS TSIRIMIAGOS00:44:48 - ANDRE RAUCH00:45:10 - JONATHAN PARSONS2ND\\nINTEL TEAM K\\n03:01:02\\n00:41:43 - WILLIAM BARRY00:42:36 - EDDIE J FRIE00:43:46 - SAMANTHA BAGLEY00:52:55 - JOHN HAMILTON3RD\\nINTEL TEAM F\\n03:06:06\\n00:36:42 - NATHAN A SUSTERSIC00:39:21 - DEREK G OSBORNE00:52:47 - CODY L COVEY00:57:16 - VIRAJ P MODAK4TH\\nDTNA1\\n03:15:33\\n00:40:28 - WITALI SPULING00:46:45 - INGA ANDREYEVA00:54:09 - KEATON WEISENBORN00:54:10 - MAISIE WEISENBORN5TH\\nFXG1\\n03:21:16\\n00:42:56 - DAVID HERRON00:46:35 - LEO SOTO00:53:59 - TONY GONZALEZ00:57:45 - ARINDA SCHRUM6TH\\nINTEL TEAM B\\n03:26:38\\n00:46:26 - EDMONDO MAZZULLI00:48:44 - JUN TAKEI00:53:49 - NIKHIL TALPALLIKAR00:57:38 - PRANAV NAKATE7TH\\nCOLUMBIA TEAM B\\n03:38:34\\n00:40:17 - BRANDON THOMAS00:47:05 - RANIER EVANS01:04:19 - KENDRA DONLIN01:06:51 - MARIE-PIERRE VIGNE8TH\\nINTEL TEAM D\\n03:41:59\\n00:47:56 - TEAL HAND00:49:03 - BENJAMIN R PORTER00:51:10 - JUSTON LI01:13:49 - DHAVAL V SHAH9TH\\nCOLUMBIA TEAM A\\n03:46:19\\n00:40:21 - ERIK BJORNSTAD00:41:59 - JIM DROZDOWSKI00:51:49 - BHASKAR MANDALA01:32:10 - SURESH GAUJULA10TH\\nINTEL TEAM N\\n04:02:13\\n00:48:39 - ERIN F WIESENAUER01:00:24 - JULIE MAAS01:00:49 - MEETA A BHATE01:12:19 - JANE M JACKSON11TH\\nDTNA3\\n04:05:09\\n00:50:29 - AUSTIN WIPF00:56:06 - YUNFENG PI01:09:14 - ADRIAN ONG01:09:18 - RICHARD LEE12TH\\nINTEL TEAM H\\n04:34:19\\n00:58:51 - BIBICHE M GEUSKENS01:04:35 - PRIYARANGA KOSWATTA01:14:32 - DAVID W MENDIES01:16:19 - RAJESH POORNACHANDRAN13TH\\nINTEL TEAM G\\n04:37:58\\n00:55:50 - ERIC POZZI01:08:07 - JINPYO HONG01:10:50 - HARSH SHAH01:23:10 - GEORGE E MATTHEW14TH\\nINTEL TEAM M\\n04:43:23\\n00:58:59 - DANIELLE CASILLAS01:02:06 - RAMYA MERUVA01:17:06 - PALLAVI J SHINDE01:25:11 - NALINI MURARI\\n\\n\\n\\n\\n\\r\\n    <table class=\\'table table-striped table-bordered table-condensed table-responsive\\'>\\r\\n        <thead>\\r\\n            <tr class=\\'header\\'>\\r\\n                            <th>Place</th>\\r\\n                            <th>Bib</th>\\r\\n                            <th>Name</th>\\r\\n                            <th>Gender</th>\\r\\n                            <th>City</th>\\r\\n                            <th>State</th>\\r\\n                            <th>Chip Time</th>\\r\\n                            <th>Chip Pace</th>\\r\\n                            <th>Gender Place</th>\\r\\n                            <th>Age Group</th>\\r\\n                            <th>Age Group Place</th>\\r\\n                            <th>Time to Start</th>\\r\\n                            <th>Gun Time</th>\\r\\n                            <th>Team</th>\\r\\n\\r\\n            </tr>\\r\\n        </thead>\\r\\n        <tbody>\\r\\n            <tr class=\\'odd\\'>\\r\\n                            <td>{{_Place}}</td>\\r\\n                            <td>{{_Bib}}</td>\\r\\n                            <td>{{_Name}}</td>\\r\\n                            <td>{{_Gender}}</td>\\r\\n                            <td>{{_City}}</td>\\r\\n                            <td>{{_State}}</td>\\r\\n                            <td>{{_Chip_Time}}</td>\\r\\n                            <td>{{_Chip_Pace}}</td>\\r\\n                            <td>{{_Gender_Place}}</td>\\r\\n                            <td>{{_Age_Group}}</td>\\r\\n                            <td>{{_Age_Group_Place}}</td>\\r\\n                            <td>{{_Time_to_Start}}</td>\\r\\n                            <td>{{_Gun_Time}}</td>\\r\\n                            <td>{{_Team}}</td>\\r\\n\\r\\n            </tr>\\r\\n        </tbody>\\r\\n    </table>\\r\\n\\r\\n\\r\\n    <span id=\"certDisplay\" style=\"display: none\">\\r\\n                    <img style=\"display: block; margin-right: auto; margin-left: auto;\" src=\"https://www.hubertiming.com/finisherCert/cert?name={{_Name}}&Time={{_Chip_Time}}&CertName=2017GPTR10Kv1\" width=\"750\" alt=\"Finisher Certificate\" />\\r\\n\\r\\n\\r\\n        <br />\\r\\n        <span style=\"display: block; margin-right: auto; margin-left: auto; text-align: center;\">\\r\\n            \\r\\n            <button id=\"printCert\" class=\"btn btn-large btn-primary\">Print Finisher Certificate</button>\\r\\n        </span>\\r\\n    </span>\\r\\n\\n\\n\\n\\n\\n\\n\\n\\n\\n\\r\\n    \\r\\n\\r\\n\\r\\n    $(document).ready(function () {\\r\\n        var eventName = \\'2017 Intel Great Place to Run 10K \\\\ Urban Clash Games\\';\\r\\n        var certName = \\'2017GPTR10Kv1\\';\\r\\n        var resultsURL = \\'https://www.hubertiming.com/results/2017GPTR10K\\';\\r\\n\\r\\n                 var splitData = {};\\r\\n\\r\\n\\r\\n\\r\\n        var individualResults = $(\\'#individualResults\\').dataTable({\\r\\n                \"bPaginate\": false,\\r\\n            \"sDom\": \"f\",\\r\\n            \\r\\n\\r\\n            \"bLengthChange\": false,\\r\\n                    \"bFilter\": false,\\r\\n\\r\\n            \"bSort\": false,\\r\\n            \"bInfo\": false,\\r\\n            \"bAutoWidth\": false,\\r\\n            \"orderClasses\": false,\\r\\n            \\r\\n        });\\r\\n\\r\\n\\r\\n        $(\"#individualResults tbody tr\").on(\"click\", function (event) {\\r\\n            var bib = individualResults.fnGetData(this)[1];\\r\\n                    splitData[bib] = [];\\r\\n                    splitData[bib]._Place = individualResults.fnGetData(this)[0];\\r\\n                    splitData[bib]._Bib = individualResults.fnGetData(this)[1];\\r\\n                    splitData[bib]._Name = individualResults.fnGetData(this)[2];\\r\\n                    splitData[bib]._Gender = individualResults.fnGetData(this)[3];\\r\\n                    splitData[bib]._City = individualResults.fnGetData(this)[4];\\r\\n                    splitData[bib]._State = individualResults.fnGetData(this)[5];\\r\\n                    splitData[bib]._Chip_Time = individualResults.fnGetData(this)[6];\\r\\n                    splitData[bib]._Chip_Pace = individualResults.fnGetData(this)[7];\\r\\n                    splitData[bib]._Gender_Place = individualResults.fnGetData(this)[8];\\r\\n                    splitData[bib]._Age_Group = individualResults.fnGetData(this)[9];\\r\\n                    splitData[bib]._Age_Group_Place = individualResults.fnGetData(this)[10];\\r\\n                    splitData[bib]._Time_to_Start = individualResults.fnGetData(this)[11];\\r\\n                    splitData[bib]._Gun_Time = individualResults.fnGetData(this)[12];\\r\\n                    splitData[bib]._Team = individualResults.fnGetData(this)[13];\\r\\n\\r\\n\\r\\n            addTab(bib);\\r\\n        });\\r\\n\\r\\n\\r\\n        var tabTemplate = \"<li><a style=\\'font-size: 18px\\' href=\\'#{href}\\'>#{label}</a> <span class=\\'ui-icon ui-icon-close\\' role=\\'presentation\\'>Remove Tab</span></li>\";\\r\\n        var tabCounter = 2;\\r\\n\\r\\n        var tabs = $(\"#tabs\").tabs({\\r\\n            cache:true,\\r\\n            load: function (e, ui) {\\r\\n                $(ui.panel).find(\".tab-loading\").remove();\\r\\n            },\\r\\n            beforeLoad: function (e, ui) {\\r\\n                var $panel = $(ui.panel);\\r\\n\\r\\n                if ($panel.is(\":empty\")) {\\r\\n                    $panel.append(\"<div class=\\'tab-loading\\'>Loading...</div>\")\\r\\n                }\\r\\n            }\\r\\n        });\\r\\n\\r\\n        // close icon: removing the tab on click\\r\\n        tabs.delegate(\"span.ui-icon-close\", \"click\", function () {\\r\\n            var panelId = $(this).closest(\"li\").remove().attr(\"aria-controls\");\\r\\n            $(\"#\" + panelId).remove();\\r\\n            tabBeingAdded--;\\r\\n            tabs.tabs(\"refresh\");\\r\\n        });\\r\\n\\r\\n\\r\\n\\r\\n        var tabBeingAdded = 1;\\r\\n        function addTab(bib) {\\r\\n\\r\\n\\r\\n            var data = splitData[bib];\\r\\n\\r\\n                        var certURL = \\'https://www.hubertiming.com/finisherCert/cert?name=\\' + data._Name + \\'&Time=\\' + data._Chip_Time + \\'&CertName=\\' + certName;\\r\\n\\r\\n\\r\\n            var label = data._Name,\\r\\n            id = \"tabs-\" + tabCounter,\\r\\n\\r\\n                    li = $(tabTemplate.replace(/#\\\\{href\\\\}/g, \"#\" + id).replace(/#\\\\{label\\\\}/g, label));\\r\\n            tabs.find(\".ui-tabs-nav\").append(li);\\r\\n            tabs.append(\"<div id=\\'\" + id + \"\\'>\" + Mustache.to_html($(\\'#tabTemplate\\').html(), data) + \"</div>\");\\r\\n            tabs.tabs(\"refresh\");\\r\\n            tabs.tabs({ active: tabBeingAdded });\\r\\n\\r\\n\\r\\n            tabBeingAdded++;\\r\\n            tabCounter++;\\r\\n\\r\\n            // Hide the certificate if the participant hasn\\'t finished\\r\\n            if (data._Chip_Time != \"\")\\r\\n                $(\\'#\\' + id + \\' #certDisplay\\').show();\\r\\n            else\\r\\n                $(\\'#\\' + id + \\' #certDisplay\\').hide();\\r\\n\\r\\n            $(\\'#\\' + id + \\' #printCert\\').on(\"click\", function (event) {\\r\\n                var myWindow = window.open(\"\", \"CertWindow\", \"width=1000,height=800\");\\r\\n                myWindow.document.write(\\'<html><style type=\"text/css\">@media print{ @page {size: landscape;} .noprint {display: none !important;} }</style><body><button style=\"display: block; margin-right: auto; margin-left: auto;\" class=\"noprint\" onClick=\"window.print();\">Print</button><img style=\"margin-right: auto; margin-left: auto;\" src=\"\\' + certURL + \\'\"></body></html>\\');\\r\\n            });\\r\\n\\r\\n            function removeLeadingZerosFromTime(time) {\\r\\n                if (time.indexOf(\"00:\") == 0)\\r\\n                    return time.substring(3);\\r\\n                else\\r\\n                    return time;\\r\\n            }\\r\\n\\r\\n\\r\\n            // Overall place: \\'+data.Place+\\'. Gender place: \\'+data.Gender_Place+\\'. Age Group Place: \\'+data.Age_Group_Place\\r\\n            $(\\'#\\' + id + \\' #shareCert\\').on(\"click\", function (event) {\\r\\n                data._Chip_Time = removeLeadingZerosFromTime(data._Chip_Time);\\r\\n                data._Chip_Pace = removeLeadingZerosFromTime(data._Chip_Pace);\\r\\n\\r\\n                FB.ui({\\r\\n                    method: \\'feed\\',\\r\\n                    name: eventName,\\r\\n                    caption: data._Name + \\' finished the \\' + eventName + \\' in \\' + data._Chip_Time + \\' with a pace of \\' + data._Chip_Pace + \\' per mile.\\',\\r\\n                    description: data._Name + \\' finished the \\' + eventName + \\' in \\' + data._Chip_Time + \\' with a pace of \\' + data._Chip_Pace + \\' per mile.\\',\\r\\n                    link: resultsURL,\\r\\n                    picture: certURL,\\r\\n                    display: \\'popup\\'\\r\\n                },\\r\\n                function (response) { });\\r\\n            });\\r\\n        }\\r\\n    });\\r\\n\\r\\n    var _gaq = _gaq || [];\\r\\n    _gaq.push([\\'_setAccount\\', \\'UA-38679873-1\\']);\\r\\n    _gaq.push([\\'_trackPageview\\']);\\r\\n    (function () {\\r\\n        var ga = document.createElement(\\'script\\'); ga.type = \\'text/javascript\\'; ga.async = true;\\r\\n        ga.src = (\\'https:\\' == document.location.protocol ? \\'https://ssl\\' : \\'http://www\\') + \\'.google-analytics.com/ga.js\\';\\r\\n        var s = document.getElementsByTagName(\\'script\\')[0]; s.parentNode.insertBefore(ga, s);\\r\\n    })();\\r\\n\\n\\n\\nHuber Timing\\n\\n\\n\\n\\n\\n'"
      ]
     },
     "execution_count": 5,
     "metadata": {},
     "output_type": "execute_result"
    }
   ],
   "source": [
    "soup.get_text()"
   ]
  },
  {
   "cell_type": "code",
   "execution_count": 8,
   "metadata": {},
   "outputs": [],
   "source": [
    "all_links = soup.find_all('a')"
   ]
  },
  {
   "cell_type": "code",
   "execution_count": 9,
   "metadata": {},
   "outputs": [
    {
     "name": "stdout",
     "output_type": "stream",
     "text": [
      "mailto:timing@hubertiming.com\n",
      "https://www.hubertiming.com/\n",
      "#individual\n",
      "#team\n",
      "/results/2017GPTR\n",
      "/results/summary/2017GPTR10K\n",
      "#tabs-1\n",
      "None\n",
      "/results/2017GPTR10K\n",
      "None\n",
      "https://www.hubertiming.com/\n",
      "https://facebook.com/hubertiming/\n"
     ]
    }
   ],
   "source": [
    "for link in all_links:\n",
    "    print(link.get('href'))"
   ]
  },
  {
   "cell_type": "code",
   "execution_count": 13,
   "metadata": {},
   "outputs": [
    {
     "data": {
      "text/plain": [
       "[<tr colspan=\"2\"><b>10K:</b></tr>,\n",
       " <tr><td>Finishers:</td><td>577</td></tr>,\n",
       " <tr><td>Male:</td><td>414</td></tr>,\n",
       " <tr><td>Female:</td><td>163</td></tr>,\n",
       " <tr class=\"header\">\n",
       " <th>Place</th>\n",
       " <th>Bib</th>\n",
       " <th>Name</th>\n",
       " <th>Gender</th>\n",
       " <th>City</th>\n",
       " <th>State</th>\n",
       " <th>Chip Time</th>\n",
       " <th>Chip Pace</th>\n",
       " <th>Gender Place</th>\n",
       " <th>Age Group</th>\n",
       " <th>Age Group Place</th>\n",
       " <th>Time to Start</th>\n",
       " <th>Gun Time</th>\n",
       " <th>Team</th>\n",
       " </tr>,\n",
       " <tr>\n",
       " <td>31</td>\n",
       " <td>674</td>\n",
       " <td>TAYSEER MAHDI</td>\n",
       " <td>F</td>\n",
       " <td>HILLSBORO</td>\n",
       " <td>OR</td>\n",
       " <td>43:47</td>\n",
       " <td>7:03</td>\n",
       " <td>2 of 163</td>\n",
       " <td>F 26-35</td>\n",
       " <td>1 of 59</td>\n",
       " <td>0:05</td>\n",
       " <td>43:52</td>\n",
       " <td></td>\n",
       " </tr>,\n",
       " <tr>\n",
       " <td>86</td>\n",
       " <td>764</td>\n",
       " <td>REBECCA JENSEN</td>\n",
       " <td>F</td>\n",
       " <td>HILLSBORO</td>\n",
       " <td>OR</td>\n",
       " <td>47:35</td>\n",
       " <td>7:40</td>\n",
       " <td>9 of 163</td>\n",
       " <td>F 26-35</td>\n",
       " <td>2 of 59</td>\n",
       " <td>0:24</td>\n",
       " <td>47:59</td>\n",
       " <td></td>\n",
       " </tr>,\n",
       " <tr>\n",
       " <td>106</td>\n",
       " <td>591</td>\n",
       " <td>ERIN F WIESENAUER</td>\n",
       " <td>F</td>\n",
       " <td>PORTLAND</td>\n",
       " <td>OR</td>\n",
       " <td>48:39</td>\n",
       " <td>7:50</td>\n",
       " <td>13 of 163</td>\n",
       " <td>F 26-35</td>\n",
       " <td>3 of 59</td>\n",
       " <td>0:17</td>\n",
       " <td>48:56</td>\n",
       " <td>INTEL TEAM N</td>\n",
       " </tr>,\n",
       " <tr>\n",
       " <td>173</td>\n",
       " <td>304</td>\n",
       " <td>VANESSA R BRITT</td>\n",
       " <td>F</td>\n",
       " <td>PORTLAND</td>\n",
       " <td>OR</td>\n",
       " <td>52:36</td>\n",
       " <td>8:29</td>\n",
       " <td>19 of 163</td>\n",
       " <td>F 26-35</td>\n",
       " <td>4 of 59</td>\n",
       " <td>0:25</td>\n",
       " <td>53:01</td>\n",
       " <td></td>\n",
       " </tr>,\n",
       " <tr>\n",
       " <td>175</td>\n",
       " <td>9</td>\n",
       " <td>BETH UNGER</td>\n",
       " <td>F</td>\n",
       " <td></td>\n",
       " <td></td>\n",
       " <td>52:38</td>\n",
       " <td>8:29</td>\n",
       " <td>20 of 163</td>\n",
       " <td>F 26-35</td>\n",
       " <td>5 of 59</td>\n",
       " <td>0:30</td>\n",
       " <td>53:08</td>\n",
       " <td>COLUMBIA TEAM C</td>\n",
       " </tr>]"
      ]
     },
     "execution_count": 13,
     "metadata": {},
     "output_type": "execute_result"
    }
   ],
   "source": [
    "soup.find_all('tr')[:10]"
   ]
  },
  {
   "cell_type": "code",
   "execution_count": 16,
   "metadata": {},
   "outputs": [
    {
     "name": "stdout",
     "output_type": "stream",
     "text": [
      "[]\n",
      "[<td>Finishers:</td>, <td>577</td>]\n",
      "[<td>Male:</td>, <td>414</td>]\n",
      "[<td>Female:</td>, <td>163</td>]\n",
      "[]\n",
      "[<td>31</td>, <td>674</td>, <td>TAYSEER MAHDI</td>, <td>F</td>, <td>HILLSBORO</td>, <td>OR</td>, <td>43:47</td>, <td>7:03</td>, <td>2 of 163</td>, <td>F 26-35</td>, <td>1 of 59</td>, <td>0:05</td>, <td>43:52</td>, <td></td>]\n",
      "[<td>86</td>, <td>764</td>, <td>REBECCA JENSEN</td>, <td>F</td>, <td>HILLSBORO</td>, <td>OR</td>, <td>47:35</td>, <td>7:40</td>, <td>9 of 163</td>, <td>F 26-35</td>, <td>2 of 59</td>, <td>0:24</td>, <td>47:59</td>, <td></td>]\n",
      "[<td>106</td>, <td>591</td>, <td>ERIN F WIESENAUER</td>, <td>F</td>, <td>PORTLAND</td>, <td>OR</td>, <td>48:39</td>, <td>7:50</td>, <td>13 of 163</td>, <td>F 26-35</td>, <td>3 of 59</td>, <td>0:17</td>, <td>48:56</td>, <td>INTEL TEAM N</td>]\n",
      "[<td>173</td>, <td>304</td>, <td>VANESSA R BRITT</td>, <td>F</td>, <td>PORTLAND</td>, <td>OR</td>, <td>52:36</td>, <td>8:29</td>, <td>19 of 163</td>, <td>F 26-35</td>, <td>4 of 59</td>, <td>0:25</td>, <td>53:01</td>, <td></td>]\n",
      "[<td>175</td>, <td>9</td>, <td>BETH UNGER</td>, <td>F</td>, <td></td>, <td></td>, <td>52:38</td>, <td>8:29</td>, <td>20 of 163</td>, <td>F 26-35</td>, <td>5 of 59</td>, <td>0:30</td>, <td>53:08</td>, <td>COLUMBIA TEAM C</td>]\n",
      "[<td>200</td>, <td>875</td>, <td>KRISTINA M HIERSCHE</td>, <td>F</td>, <td>BEAVERTON</td>, <td>OR</td>, <td>53:56</td>, <td>8:42</td>, <td>24 of 163</td>, <td>F 26-35</td>, <td>6 of 59</td>, <td>0:19</td>, <td>54:15</td>, <td></td>]\n",
      "[<td>206</td>, <td>70</td>, <td>MAISIE WEISENBORN</td>, <td>F</td>, <td>PORTLAND</td>, <td>OR</td>, <td>54:10</td>, <td>8:44</td>, <td>25 of 163</td>, <td>F 26-35</td>, <td>7 of 59</td>, <td>0:15</td>, <td>54:25</td>, <td>DTNA1</td>]\n",
      "[<td>207</td>, <td>48</td>, <td>LOUISE R DUNNE</td>, <td>F</td>, <td>PORTLAND</td>, <td>OR</td>, <td>54:16</td>, <td>8:45</td>, <td>26 of 163</td>, <td>F 26-35</td>, <td>8 of 59</td>, <td>0:36</td>, <td>54:52</td>, <td></td>]\n",
      "[<td>209</td>, <td>851</td>, <td>HONG NHUNG T TRAN</td>, <td>F</td>, <td>BEAVERTON</td>, <td>OR</td>, <td>54:17</td>, <td>8:45</td>, <td>27 of 163</td>, <td>F 26-35</td>, <td>9 of 59</td>, <td>0:49</td>, <td>55:06</td>, <td></td>]\n",
      "[<td>261</td>, <td>385</td>, <td>KAYLA SEAGER</td>, <td>F</td>, <td>OTHER</td>, <td>OR</td>, <td>57:31</td>, <td>9:16</td>, <td>34 of 163</td>, <td>F 26-35</td>, <td>10 of 59</td>, <td>0:41</td>, <td>58:12</td>, <td></td>]\n",
      "[<td>268</td>, <td>782</td>, <td>ARINDA SCHRUM</td>, <td>F</td>, <td>PORTLAND</td>, <td>OR</td>, <td>57:45</td>, <td>9:18</td>, <td>36 of 163</td>, <td>F 26-35</td>, <td>11 of 59</td>, <td>0:56</td>, <td>58:41</td>, <td>FXG1</td>]\n",
      "[<td>279</td>, <td>287</td>, <td>MANASI D NAVARE</td>, <td>F</td>, <td>PORTLAND</td>, <td>OR</td>, <td>58:35</td>, <td>9:27</td>, <td>39 of 163</td>, <td>F 26-35</td>, <td>12 of 59</td>, <td>0:09</td>, <td>58:44</td>, <td>INTEL TEAM L</td>]\n",
      "[<td>287</td>, <td>258</td>, <td>PEI-FANG SUNG</td>, <td>F</td>, <td>HILLSBORO</td>, <td>OR</td>, <td>58:59</td>, <td>9:30</td>, <td>44 of 163</td>, <td>F 26-35</td>, <td>13 of 59</td>, <td>1:29</td>, <td>1:00:28</td>, <td></td>]\n",
      "[<td>288</td>, <td>583</td>, <td>DANIELLE CASILLAS</td>, <td>F</td>, <td>PORTLAND</td>, <td>OR</td>, <td>58:59</td>, <td>9:30</td>, <td>45 of 163</td>, <td>F 26-35</td>, <td>14 of 59</td>, <td>1:28</td>, <td>1:00:27</td>, <td>INTEL TEAM M</td>]\n",
      "[<td>294</td>, <td>470</td>, <td>ALLYSON HEILINGER</td>, <td>F</td>, <td>HILLSBORO</td>, <td>OR</td>, <td>59:27</td>, <td>9:35</td>, <td>47 of 163</td>, <td>F 26-35</td>, <td>15 of 59</td>, <td>1:09</td>, <td>1:00:36</td>, <td></td>]\n",
      "[<td>303</td>, <td>328</td>, <td>RISHANKA PRABHU</td>, <td>F</td>, <td>HILLSBORO</td>, <td>OR</td>, <td>59:47</td>, <td>9:38</td>, <td>50 of 163</td>, <td>F 26-35</td>, <td>16 of 59</td>, <td>0:20</td>, <td>1:00:07</td>, <td></td>]\n",
      "[<td>320</td>, <td>210</td>, <td>CAROLINA DE AGUIAR MARTINS</td>, <td>F</td>, <td>HILLSBORO</td>, <td>OR</td>, <td>1:00:39</td>, <td>9:46</td>, <td>56 of 163</td>, <td>F 26-35</td>, <td>17 of 59</td>, <td>1:08</td>, <td>1:01:47</td>, <td></td>]\n",
      "[<td>330</td>, <td>209</td>, <td>SERIN BUSSELL</td>, <td>F</td>, <td>PORTLAND</td>, <td>OR</td>, <td>1:01:19</td>, <td>9:53</td>, <td>59 of 163</td>, <td>F 26-35</td>, <td>18 of 59</td>, <td>0:28</td>, <td>1:01:47</td>, <td></td>]\n",
      "[<td>343</td>, <td>590</td>, <td>EILEEN M HASSETT</td>, <td>F</td>, <td>NOT SPECIFIED</td>, <td>OR</td>, <td>1:02:04</td>, <td>10:00</td>, <td>63 of 163</td>, <td>F 26-35</td>, <td>19 of 59</td>, <td>0:15</td>, <td>1:02:19</td>, <td></td>]\n",
      "[<td>344</td>, <td>454</td>, <td>LIDIA A KUSNADI</td>, <td>F</td>, <td>PORTLAND</td>, <td>OR</td>, <td>1:02:05</td>, <td>10:00</td>, <td>64 of 163</td>, <td>F 26-35</td>, <td>20 of 59</td>, <td>0:41</td>, <td>1:02:46</td>, <td></td>]\n",
      "[<td>346</td>, <td>367</td>, <td>RAMYA MERUVA</td>, <td>F</td>, <td>HILLSBORO</td>, <td>OR</td>, <td>1:02:06</td>, <td>10:01</td>, <td>65 of 163</td>, <td>F 26-35</td>, <td>21 of 59</td>, <td>0:23</td>, <td>1:02:29</td>, <td>INTEL TEAM M</td>]\n",
      "[<td>360</td>, <td>229</td>, <td>MEENAKSHI MAMUNURU</td>, <td>F</td>, <td>TIGARD</td>, <td>OR</td>, <td>1:02:48</td>, <td>10:07</td>, <td>68 of 163</td>, <td>F 26-35</td>, <td>22 of 59</td>, <td>1:08</td>, <td>1:03:56</td>, <td></td>]\n",
      "[<td>362</td>, <td>314</td>, <td>AMANDA DEVASTO</td>, <td>F</td>, <td>PORTLAND</td>, <td>OR</td>, <td>1:02:48</td>, <td>10:07</td>, <td>69 of 163</td>, <td>F 26-35</td>, <td>23 of 59</td>, <td>0:32</td>, <td>1:03:20</td>, <td></td>]\n",
      "[<td>365</td>, <td>800</td>, <td>ERIN MORLAN</td>, <td>F</td>, <td>PORTLAND</td>, <td>OR</td>, <td>1:03:08</td>, <td>10:11</td>, <td>70 of 163</td>, <td>F 26-35</td>, <td>24 of 59</td>, <td>0:57</td>, <td>1:04:05</td>, <td></td>]\n",
      "[<td>367</td>, <td>570</td>, <td>LOICE CHINGOZHA</td>, <td>F</td>, <td>HILLSBORO</td>, <td>OR</td>, <td>1:03:19</td>, <td>10:12</td>, <td>71 of 163</td>, <td>F 26-35</td>, <td>25 of 59</td>, <td>0:26</td>, <td>1:03:45</td>, <td></td>]\n",
      "[<td>371</td>, <td>859</td>, <td>ERIN MCKALIP</td>, <td>F</td>, <td>PORTLAND</td>, <td>OR</td>, <td>1:03:44</td>, <td>10:16</td>, <td>74 of 163</td>, <td>F 26-35</td>, <td>26 of 59</td>, <td>0:19</td>, <td>1:04:03</td>, <td></td>]\n",
      "[<td>374</td>, <td>678</td>, <td>RITU ARORA</td>, <td>F</td>, <td>HILLSBORO</td>, <td>OR</td>, <td>1:03:51</td>, <td>10:17</td>, <td>75 of 163</td>, <td>F 26-35</td>, <td>27 of 59</td>, <td>0:29</td>, <td>1:04:20</td>, <td></td>]\n",
      "[<td>383</td>, <td>644</td>, <td>JIAYIN LIN</td>, <td>F</td>, <td>HILLSBORO</td>, <td>OR</td>, <td>1:04:19</td>, <td>10:22</td>, <td>78 of 163</td>, <td>F 26-35</td>, <td>28 of 59</td>, <td>0:56</td>, <td>1:05:15</td>, <td></td>]\n",
      "[<td>384</td>, <td>5</td>, <td>KENDRA DONLIN</td>, <td>F</td>, <td></td>, <td></td>, <td>1:04:19</td>, <td>10:22</td>, <td>79 of 163</td>, <td>F 26-35</td>, <td>29 of 59</td>, <td>0:32</td>, <td>1:04:51</td>, <td>COLUMBIA TEAM B</td>]\n",
      "[<td>393</td>, <td>63</td>, <td>ERIN M MCDONNELL</td>, <td>F</td>, <td>ALOHA</td>, <td>OR</td>, <td>1:04:44</td>, <td>10:26</td>, <td>83 of 163</td>, <td>F 26-35</td>, <td>30 of 59</td>, <td>0:20</td>, <td>1:05:04</td>, <td></td>]\n",
      "[<td>397</td>, <td>40</td>, <td>DENISE HERNANDEZ</td>, <td>F</td>, <td>BEAVERTON</td>, <td>OR</td>, <td>1:04:56</td>, <td>10:28</td>, <td>86 of 163</td>, <td>F 26-35</td>, <td>31 of 59</td>, <td>0:45</td>, <td>1:05:41</td>, <td></td>]\n",
      "[<td>398</td>, <td>567</td>, <td>STACIE L COLLINS</td>, <td>F</td>, <td>PORTLAND</td>, <td>OR</td>, <td>1:04:57</td>, <td>10:28</td>, <td>87 of 163</td>, <td>F 26-35</td>, <td>32 of 59</td>, <td>0:46</td>, <td>1:05:43</td>, <td></td>]\n",
      "[<td>404</td>, <td>224</td>, <td>KATIE SCARLETT KIMBALL</td>, <td>F</td>, <td>PORTLAND</td>, <td>OR</td>, <td>1:05:16</td>, <td>10:31</td>, <td>90 of 163</td>, <td>F 26-35</td>, <td>33 of 59</td>, <td>1:14</td>, <td>1:06:30</td>, <td></td>]\n",
      "[<td>419</td>, <td>721</td>, <td>KARIN SUNG</td>, <td>F</td>, <td>NOT SPECIFIED</td>, <td>OR</td>, <td>1:06:38</td>, <td>10:44</td>, <td>94 of 163</td>, <td>F 26-35</td>, <td>34 of 59</td>, <td>0:46</td>, <td>1:07:24</td>, <td></td>]\n",
      "[<td>433</td>, <td>34</td>, <td>REBECCA LATIOLAIT</td>, <td>F</td>, <td>HILLSBORO</td>, <td>OR</td>, <td>1:07:16</td>, <td>10:51</td>, <td>97 of 163</td>, <td>F 26-35</td>, <td>35 of 59</td>, <td>0:24</td>, <td>1:07:40</td>, <td></td>]\n",
      "[<td>451</td>, <td>551</td>, <td>STACIE HYMAS</td>, <td>F</td>, <td>TUALATIN</td>, <td>OR</td>, <td>1:08:18</td>, <td>11:00</td>, <td>103 of 163</td>, <td>F 26-35</td>, <td>36 of 59</td>, <td>0:29</td>, <td>1:08:47</td>, <td></td>]\n",
      "[<td>454</td>, <td>22</td>, <td>NAOMI HOFFMAN</td>, <td>F</td>, <td>BEAVERTON</td>, <td>OR</td>, <td>1:08:42</td>, <td>11:04</td>, <td>104 of 163</td>, <td>F 26-35</td>, <td>37 of 59</td>, <td>0:55</td>, <td>1:09:37</td>, <td></td>]\n",
      "[<td>456</td>, <td>66</td>, <td>SONIKA JOHRI</td>, <td>F</td>, <td>PORTLAND</td>, <td>OR</td>, <td>1:08:52</td>, <td>11:06</td>, <td>105 of 163</td>, <td>F 26-35</td>, <td>38 of 59</td>, <td>0:39</td>, <td>1:09:31</td>, <td></td>]\n",
      "[<td>458</td>, <td>306</td>, <td>PHANI VADALI</td>, <td>F</td>, <td>HILLSBORO</td>, <td>OR</td>, <td>1:08:56</td>, <td>11:07</td>, <td>106 of 163</td>, <td>F 26-35</td>, <td>39 of 59</td>, <td>0:28</td>, <td>1:09:24</td>, <td></td>]\n",
      "[<td>459</td>, <td>320</td>, <td>SRI HARISHA SAI KASTURI</td>, <td>F</td>, <td>HILLSBORO</td>, <td>OR</td>, <td>1:08:57</td>, <td>11:07</td>, <td>107 of 163</td>, <td>F 26-35</td>, <td>40 of 59</td>, <td>0:04</td>, <td>1:09:01</td>, <td></td>]\n",
      "[<td>460</td>, <td>651</td>, <td>SRI PAVANI MEDAPURAM L N</td>, <td>F</td>, <td>HILLSBORO</td>, <td>OR</td>, <td>1:08:58</td>, <td>11:07</td>, <td>108 of 163</td>, <td>F 26-35</td>, <td>41 of 59</td>, <td>0:59</td>, <td>1:09:57</td>, <td></td>]\n",
      "[<td>474</td>, <td>417</td>, <td>HEMALATHA GURUMOORTHY</td>, <td>F</td>, <td>HILLSBORO</td>, <td>OR</td>, <td>1:09:49</td>, <td>11:15</td>, <td>112 of 163</td>, <td>F 26-35</td>, <td>42 of 59</td>, <td>0:57</td>, <td>1:10:46</td>, <td></td>]\n",
      "[<td>476</td>, <td>43</td>, <td>QUANEISHA JENKINS-PENHA</td>, <td>F</td>, <td>PORTLAND</td>, <td>OR</td>, <td>1:10:01</td>, <td>11:17</td>, <td>113 of 163</td>, <td>F 26-35</td>, <td>43 of 59</td>, <td>1:12</td>, <td>1:11:13</td>, <td></td>]\n",
      "[<td>478</td>, <td>336</td>, <td>PRIYANKA SHANKARAN</td>, <td>F</td>, <td>HILLSBORO</td>, <td>OR</td>, <td>1:10:06</td>, <td>11:18</td>, <td>114 of 163</td>, <td>F 26-35</td>, <td>44 of 59</td>, <td>0:23</td>, <td>1:10:29</td>, <td></td>]\n",
      "[<td>497</td>, <td>205</td>, <td>PRABHA VISWANATHAN</td>, <td>F</td>, <td>HILLSBORO</td>, <td>OR</td>, <td>1:11:59</td>, <td>11:36</td>, <td>122 of 163</td>, <td>F 26-35</td>, <td>45 of 59</td>, <td>0:09</td>, <td>1:12:08</td>, <td></td>]\n",
      "[<td>503</td>, <td>279</td>, <td>KRISTIN VANDERSCHICK</td>, <td>F</td>, <td>PORTLAND</td>, <td>OR</td>, <td>1:12:20</td>, <td>11:40</td>, <td>126 of 163</td>, <td>F 26-35</td>, <td>46 of 59</td>, <td>0:44</td>, <td>1:13:04</td>, <td></td>]\n",
      "[<td>509</td>, <td>157</td>, <td>LAURA M HOOVER</td>, <td>F</td>, <td>HILLSBORO</td>, <td>OR</td>, <td>1:13:02</td>, <td>11:46</td>, <td>130 of 163</td>, <td>F 26-35</td>, <td>47 of 59</td>, <td>0:43</td>, <td>1:13:45</td>, <td></td>]\n",
      "[<td>510</td>, <td>390</td>, <td>KETKI H KANITKAR</td>, <td>F</td>, <td>PORTLAND</td>, <td>OR</td>, <td>1:13:08</td>, <td>11:47</td>, <td>131 of 163</td>, <td>F 26-35</td>, <td>48 of 59</td>, <td>0:45</td>, <td>1:13:53</td>, <td></td>]\n",
      "[<td>519</td>, <td>607</td>, <td>SWATHI DHANAVANTHRI</td>, <td>F</td>, <td>HILLSBORO</td>, <td>OR</td>, <td>1:14:13</td>, <td>11:58</td>, <td>132 of 163</td>, <td>F 26-35</td>, <td>49 of 59</td>, <td>0:57</td>, <td>1:15:10</td>, <td>INTEL TEAM N</td>]\n",
      "[<td>522</td>, <td>235</td>, <td>EMILY RALSTON</td>, <td>F</td>, <td>HILLSBORO</td>, <td>OR</td>, <td>1:14:22</td>, <td>11:59</td>, <td>133 of 163</td>, <td>F 26-35</td>, <td>50 of 59</td>, <td>1:20</td>, <td>1:15:42</td>, <td></td>]\n",
      "[<td>526</td>, <td>20</td>, <td>SAYALI KULKARNI</td>, <td>F</td>, <td>PORTLAND</td>, <td>OR</td>, <td>1:15:13</td>, <td>12:07</td>, <td>134 of 163</td>, <td>F 26-35</td>, <td>51 of 59</td>, <td>0:16</td>, <td>1:15:29</td>, <td></td>]\n",
      "[<td>538</td>, <td>447</td>, <td>PALLAVI J SHINDE</td>, <td>F</td>, <td>HILLSBORO</td>, <td>OR</td>, <td>1:17:06</td>, <td>12:26</td>, <td>140 of 163</td>, <td>F 26-35</td>, <td>52 of 59</td>, <td>0:30</td>, <td>1:17:36</td>, <td>INTEL TEAM M</td>]\n",
      "[<td>548</td>, <td>539</td>, <td>JESS NICOLLS</td>, <td>F</td>, <td>HILLSBORO</td>, <td>OR</td>, <td>1:23:30</td>, <td>13:28</td>, <td>146 of 163</td>, <td>F 26-35</td>, <td>53 of 59</td>, <td>0:40</td>, <td>1:24:10</td>, <td></td>]\n",
      "[<td>554</td>, <td>465</td>, <td>NALINI MURARI</td>, <td>F</td>, <td>HILLSBORO</td>, <td>OR</td>, <td>1:25:11</td>, <td>13:44</td>, <td>149 of 163</td>, <td>F 26-35</td>, <td>54 of 59</td>, <td>0:39</td>, <td>1:25:50</td>, <td>INTEL TEAM M</td>]\n",
      "[<td>557</td>, <td>124</td>, <td>AVANTIKA DHARMAGADDA</td>, <td>F</td>, <td>PORTLAND</td>, <td>OR</td>, <td>1:26:22</td>, <td>13:55</td>, <td>151 of 163</td>, <td>F 26-35</td>, <td>55 of 59</td>, <td>0:20</td>, <td>1:26:42</td>, <td></td>]\n",
      "[<td>563</td>, <td>886</td>, <td>GARGI SANT</td>, <td>F</td>, <td>ROCKVILLE</td>, <td>MD</td>, <td>1:31:20</td>, <td>14:43</td>, <td>155 of 163</td>, <td>F 26-35</td>, <td>56 of 59</td>, <td>0:34</td>, <td>1:31:54</td>, <td></td>]\n",
      "[<td>567</td>, <td>133</td>, <td>LOLA ABDUL-JABBAR</td>, <td>F</td>, <td>OUT OF STATE</td>, <td>OR</td>, <td>1:32:28</td>, <td>14:54</td>, <td>156 of 163</td>, <td>F 26-35</td>, <td>57 of 59</td>, <td>0:37</td>, <td>1:33:05</td>, <td></td>]\n",
      "[<td>570</td>, <td>670</td>, <td>HEMA VIJWANI</td>, <td>F</td>, <td>HILLSBORO</td>, <td>OR</td>, <td>1:34:45</td>, <td>15:17</td>, <td>158 of 163</td>, <td>F 26-35</td>, <td>58 of 59</td>, <td>0:08</td>, <td>1:34:53</td>, <td></td>]\n",
      "[<td>576</td>, <td>338</td>, <td>PRANAVI APPANA</td>, <td>F</td>, <td>HILLSBORO</td>, <td>OR</td>, <td>1:40:47</td>, <td>16:15</td>, <td>162 of 163</td>, <td>F 26-35</td>, <td>59 of 59</td>, <td>1:14</td>, <td>1:42:01</td>, <td></td>]\n",
      "[<td>Award</td>, <td>Name</td>, <td>Combined Time</td>, <td>1</td>, <td>2</td>, <td>3</td>, <td>4</td>]\n",
      "[<td>1ST</td>, <td>DTNA2</td>, <td>02:54:41</td>, <td>00:40:36 - ANDY WEDAM</td>, <td>00:44:05 - VASILIOS TSIRIMIAGOS</td>, <td>00:44:48 - ANDRE RAUCH</td>, <td>00:45:10 - JONATHAN PARSONS</td>]\n",
      "[<td>2ND</td>, <td>INTEL TEAM K</td>, <td>03:01:02</td>, <td>00:41:43 - WILLIAM BARRY</td>, <td>00:42:36 - EDDIE J FRIE</td>, <td>00:43:46 - SAMANTHA BAGLEY</td>, <td>00:52:55 - JOHN HAMILTON</td>]\n",
      "[<td>3RD</td>, <td>INTEL TEAM F</td>, <td>03:06:06</td>, <td>00:36:42 - NATHAN A SUSTERSIC</td>, <td>00:39:21 - DEREK G OSBORNE</td>, <td>00:52:47 - CODY L COVEY</td>, <td>00:57:16 - VIRAJ P MODAK</td>]\n",
      "[<td>4TH</td>, <td>DTNA1</td>, <td>03:15:33</td>, <td>00:40:28 - WITALI SPULING</td>, <td>00:46:45 - INGA ANDREYEVA</td>, <td>00:54:09 - KEATON WEISENBORN</td>, <td>00:54:10 - MAISIE WEISENBORN</td>]\n",
      "[<td>5TH</td>, <td>FXG1</td>, <td>03:21:16</td>, <td>00:42:56 - DAVID HERRON</td>, <td>00:46:35 - LEO SOTO</td>, <td>00:53:59 - TONY GONZALEZ</td>, <td>00:57:45 - ARINDA SCHRUM</td>]\n",
      "[<td>6TH</td>, <td>INTEL TEAM B</td>, <td>03:26:38</td>, <td>00:46:26 - EDMONDO MAZZULLI</td>, <td>00:48:44 - JUN TAKEI</td>, <td>00:53:49 - NIKHIL TALPALLIKAR</td>, <td>00:57:38 - PRANAV NAKATE</td>]\n",
      "[<td>7TH</td>, <td>COLUMBIA TEAM B</td>, <td>03:38:34</td>, <td>00:40:17 - BRANDON THOMAS</td>, <td>00:47:05 - RANIER EVANS</td>, <td>01:04:19 - KENDRA DONLIN</td>, <td>01:06:51 - MARIE-PIERRE VIGNE</td>]\n",
      "[<td>8TH</td>, <td>INTEL TEAM D</td>, <td>03:41:59</td>, <td>00:47:56 - TEAL HAND</td>, <td>00:49:03 - BENJAMIN R PORTER</td>, <td>00:51:10 - JUSTON LI</td>, <td>01:13:49 - DHAVAL V SHAH</td>]\n",
      "[<td>9TH</td>, <td>COLUMBIA TEAM A</td>, <td>03:46:19</td>, <td>00:40:21 - ERIK BJORNSTAD</td>, <td>00:41:59 - JIM DROZDOWSKI</td>, <td>00:51:49 - BHASKAR MANDALA</td>, <td>01:32:10 - SURESH GAUJULA</td>]\n",
      "[<td>10TH</td>, <td>INTEL TEAM N</td>, <td>04:02:13</td>, <td>00:48:39 - ERIN F WIESENAUER</td>, <td>01:00:24 - JULIE MAAS</td>, <td>01:00:49 - MEETA A BHATE</td>, <td>01:12:19 - JANE M JACKSON</td>]\n",
      "[<td>11TH</td>, <td>DTNA3</td>, <td>04:05:09</td>, <td>00:50:29 - AUSTIN WIPF</td>, <td>00:56:06 - YUNFENG PI</td>, <td>01:09:14 - ADRIAN ONG</td>, <td>01:09:18 - RICHARD LEE</td>]\n",
      "[<td>12TH</td>, <td>INTEL TEAM H</td>, <td>04:34:19</td>, <td>00:58:51 - BIBICHE M GEUSKENS</td>, <td>01:04:35 - PRIYARANGA KOSWATTA</td>, <td>01:14:32 - DAVID W MENDIES</td>, <td>01:16:19 - RAJESH POORNACHANDRAN</td>]\n",
      "[<td>13TH</td>, <td>INTEL TEAM G</td>, <td>04:37:58</td>, <td>00:55:50 - ERIC POZZI</td>, <td>01:08:07 - JINPYO HONG</td>, <td>01:10:50 - HARSH SHAH</td>, <td>01:23:10 - GEORGE E MATTHEW</td>]\n",
      "[<td>14TH</td>, <td>INTEL TEAM M</td>, <td>04:43:23</td>, <td>00:58:59 - DANIELLE CASILLAS</td>, <td>01:02:06 - RAMYA MERUVA</td>, <td>01:17:06 - PALLAVI J SHINDE</td>, <td>01:25:11 - NALINI MURARI</td>]\n"
     ]
    }
   ],
   "source": [
    "rows = soup.find_all('tr')\n",
    "\n",
    "for td in rows:\n",
    "    print(td.find_all('td'))"
   ]
  },
  {
   "cell_type": "code",
   "execution_count": null,
   "metadata": {},
   "outputs": [],
   "source": []
  }
 ],
 "metadata": {
  "kernelspec": {
   "display_name": "Python 3",
   "language": "python",
   "name": "python3"
  },
  "language_info": {
   "codemirror_mode": {
    "name": "ipython",
    "version": 3
   },
   "file_extension": ".py",
   "mimetype": "text/x-python",
   "name": "python",
   "nbconvert_exporter": "python",
   "pygments_lexer": "ipython3",
   "version": "3.7.3"
  }
 },
 "nbformat": 4,
 "nbformat_minor": 2
}
